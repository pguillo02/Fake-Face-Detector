{
 "cells": [
  {
   "cell_type": "markdown",
   "id": "17680edc",
   "metadata": {},
   "source": [
    "# Fake face detector"
   ]
  },
  {
   "cell_type": "code",
   "execution_count": null,
   "id": "b841223a",
   "metadata": {},
   "outputs": [],
   "source": [
    "import torch\n",
    "import torch.nn as nn\n",
    "import torch.nn.functional as F\n",
    "import torch.optim as optim\n",
    "from torch.utils.data import DataLoader, Dataset\n",
    "from torchvision import transforms, datasets, models\n",
    "import torchvision.utils as vutils\n",
    "import torch.nn.init as init\n",
    "\n",
    "import matplotlib.pyplot as plt\n",
    "import numpy as np\n",
    "import os\n",
    "\n",
    "from google.colab import files\n",
    "import zipfile\n",
    "import io"
   ]
  },
  {
   "cell_type": "markdown",
   "id": "a1988543",
   "metadata": {},
   "source": [
    "## Importación y preparación de datos"
   ]
  },
  {
   "cell_type": "code",
   "execution_count": null,
   "id": "d82039cf",
   "metadata": {},
   "outputs": [],
   "source": [
    "uploaded = files.upload()\n",
    "\n",
    "nombre_del_archivo = \"real_and_fake_face.zip\"\n",
    "\n",
    "with zipfile.ZipFile(io.BytesIO(uploaded[nombre_del_archivo]), 'r') as zip_ref:\n",
    "    zip_ref.extractall()\n",
    "\n",
    "carpeta_de_imagenes = \"real_and_fake_face\"\n",
    "lista_de_archivos = os.listdir(carpeta_de_imagenes)\n",
    "\n",
    "print(\"Archivos en la carpeta de imágenes:\")\n",
    "print(lista_de_archivos)"
   ]
  },
  {
   "cell_type": "code",
   "execution_count": null,
   "id": "98fa3f1e",
   "metadata": {},
   "outputs": [],
   "source": [
    "DATASET = os.path.join('real_and_fake_face')"
   ]
  },
  {
   "cell_type": "code",
   "execution_count": null,
   "id": "7b5df098",
   "metadata": {},
   "outputs": [],
   "source": [
    "INITIAL_SIZE_OF_IMAGES = (128, 128)\n",
    "\n",
    "data_transforms = transforms.Compose([\n",
    "    transforms.RandomResizedCrop(INITIAL_SIZE_OF_IMAGES, scale=(0.8, 1.0)),\n",
    "    transforms.RandomHorizontalFlip(),\n",
    "    transforms.RandomRotation(degrees=15),\n",
    "    transforms.ColorJitter(brightness=0.2, contrast=0.2, saturation=0.2, hue=0.2),\n",
    "    transforms.ToTensor(),\n",
    "    transforms.Normalize(mean=[0.5, 0.5, 0.5], std=[0.5, 0.5, 0.5])\n",
    "])\n",
    "\n",
    "dataset = datasets.ImageFolder(root=DATASET, transform=data_transforms)\n",
    "\n",
    "class_names = dataset.classes\n",
    "\n",
    "for i, class_name in enumerate(class_names):\n",
    "    print(f\"Class {i}: {class_name}\")"
   ]
  },
  {
   "cell_type": "code",
   "execution_count": null,
   "id": "ffcc8ef8",
   "metadata": {},
   "outputs": [],
   "source": [
    "train_size = int(0.8 * len(train_dataset))\n",
    "test_size = int((len(train_dataset) - train_size) * 0.5)\n",
    "valid_size = len(train_dataset) - train_size - test_size\n",
    "\n",
    "train, valid, test = torch.utils.data.random_split(train_dataset, [train_size, valid_size, test_size])\n",
    "\n",
    "train_loader = torch.utils.data.DataLoader(dataset=train, batch_size=32, shuffle=True)\n",
    "valid_loader = torch.utils.data.DataLoader(dataset=valid, batch_size=32, shuffle=False)\n",
    "test_loader = torch.utils.data.DataLoader(dataset=test, batch_size=32, shuffle=False)"
   ]
  },
  {
   "cell_type": "code",
   "execution_count": null,
   "id": "a4d4bb77",
   "metadata": {},
   "outputs": [],
   "source": [
    "device = torch.device('cuda' if torch.cuda.is_available() else 'cpu')\n",
    "print(f'Usando {device} para entrenar')"
   ]
  },
  {
   "cell_type": "markdown",
   "id": "2516f9c5",
   "metadata": {},
   "source": [
    "## Definición de modelo básico"
   ]
  },
  {
   "cell_type": "code",
   "execution_count": null,
   "id": "d9bfac96",
   "metadata": {},
   "outputs": [],
   "source": [
    "class FaceAuthenticityCNN(nn.Module):\n",
    "    def __init__(self):\n",
    "        super(FaceAuthenticityCNN, self).__init__()\n",
    "\n",
    "        self.conv1 = nn.Conv2d(3, 32, 3, padding=1)\n",
    "        self.conv2 = nn.Conv2d(32, 64, 3, padding=1)\n",
    "        self.pool = nn.MaxPool2d(2, 2)\n",
    "        self.fc1 = nn.Linear(65536, 128)\n",
    "        self.fc2 = nn.Linear(128, 2)\n",
    "\n",
    "        self.dropout = nn.Dropout(0.5)\n",
    "\n",
    "    def forward(self, x):\n",
    "        x = self.pool(F.relu(self.conv1(x)))\n",
    "        x = self.pool(F.relu(self.conv2(x)))\n",
    "\n",
    "        x = x.view(-1, 64 *32 *32)\n",
    "\n",
    "        x = self.dropout(F.relu(self.fc1(x)))\n",
    "        x = self.fc2(x)\n",
    "\n",
    "        return x"
   ]
  },
  {
   "cell_type": "markdown",
   "id": "17aa9968",
   "metadata": {},
   "source": [
    "## Entrenamiento y evaluación"
   ]
  },
  {
   "cell_type": "code",
   "execution_count": null,
   "id": "f890e2a7",
   "metadata": {},
   "outputs": [],
   "source": [
    "model = FaceAuthenticityCNN().to(device)\n",
    "\n",
    "def train_and_evaluate(model, train_loader, valid_loader, criterion, optimizer, num_epochs, device):\n",
    "    model.to(device)\n",
    "    train_losses = []\n",
    "    valid_losses = []\n",
    "    train_accuracies = []\n",
    "    valid_accuracies = []\n",
    "\n",
    "    for epoch in range(num_epochs):\n",
    "        model.train()\n",
    "        train_loss = 0.0\n",
    "        correct_train = 0\n",
    "        total_train = 0\n",
    "\n",
    "        for inputs, labels in train_loader:\n",
    "            inputs, labels = inputs.to(device), labels.to(device)\n",
    "            optimizer.zero_grad()\n",
    "            outputs = model(inputs)\n",
    "\n",
    "            labels = labels.squeeze()  \n",
    "\n",
    "            loss = criterion(outputs, labels)\n",
    "            loss.backward()\n",
    "            optimizer.step()\n",
    "            train_loss += loss.item()\n",
    "\n",
    "            _, predicted_train = torch.max(outputs.data, 1)\n",
    "            total_train += labels.size(0)\n",
    "            correct_train += (predicted_train == labels).sum().item()\n",
    "\n",
    "        train_loss /= len(train_loader)\n",
    "        train_accuracy = correct_train / total_train\n",
    "        train_losses.append(train_loss)\n",
    "        train_accuracies.append(train_accuracy)\n",
    "\n",
    "        model.eval()\n",
    "        valid_loss = 0.0\n",
    "        correct_valid = 0\n",
    "        total_valid = 0\n",
    "\n",
    "        with torch.no_grad():\n",
    "            for inputs, labels in valid_loader:\n",
    "                inputs, labels = inputs.to(device), labels.to(device)\n",
    "                outputs = model(inputs)\n",
    "\n",
    "                labels = labels.squeeze()  \n",
    "\n",
    "                loss = criterion(outputs, labels)\n",
    "                valid_loss += loss.item()\n",
    "\n",
    "                _, predicted_valid = torch.max(outputs.data, 1)\n",
    "                total_valid += labels.size(0)\n",
    "                correct_valid += (predicted_valid == labels).sum().item()\n",
    "\n",
    "        valid_loss /= len(valid_loader)\n",
    "        valid_accuracy = correct_valid / total_valid\n",
    "        valid_losses.append(valid_loss)\n",
    "        valid_accuracies.append(valid_accuracy)\n",
    "\n",
    "        print(f'Epoch {epoch + 1}/{num_epochs}, '\n",
    "              f'Train Loss: {train_loss:.4f}, Train Accuracy: {train_accuracy * 100:.2f}%, '\n",
    "              f'Valid Loss: {valid_loss:.4f}, Valid Accuracy: {valid_accuracy * 100:.2f}%')\n",
    "\n",
    "    return model\n",
    "\n",
    "model = FaceAuthenticityCNN()\n",
    "criterion = nn.CrossEntropyLoss()\n",
    "optimizer = optim.Adam(model.parameters(), lr=0.001)\n",
    "\n",
    "trained_model = train_and_evaluate(model, train_loader, valid_loader, criterion, optimizer, 10, device)"
   ]
  },
  {
   "cell_type": "markdown",
   "id": "4243d793",
   "metadata": {},
   "source": [
    "## Resultados"
   ]
  },
  {
   "cell_type": "code",
   "execution_count": null,
   "id": "4e66cd27",
   "metadata": {},
   "outputs": [],
   "source": [
    "plt.figure(figsize=(12, 4))\n",
    "plt.subplot(1, 2, 1)\n",
    "plt.plot(epoch, train_losses, label='Training Loss')\n",
    "plt.plot(epoch, valid_losses, label='Validation Loss')\n",
    "plt.title('Training and Validation Loss')\n",
    "plt.xlabel('Epoch')\n",
    "plt.ylabel('Loss')\n",
    "plt.legend()\n",
    "\n",
    "plt.subplot(1, 2, 2)\n",
    "plt.plot(epoch, train_accuracies, label='Training Accuracy')\n",
    "plt.plot(epoch, valid_accuracies, label='Validation Accuracy')\n",
    "plt.title('Training and Validation Accuracy')\n",
    "plt.xlabel('Epoch')\n",
    "plt.ylabel('Accuracy')\n",
    "plt.legend()\n",
    "\n",
    "plt.tight_layout()\n",
    "plt.show()"
   ]
  },
  {
   "cell_type": "code",
   "execution_count": null,
   "id": "fb622847",
   "metadata": {},
   "outputs": [],
   "source": [
    "DATASET = os.path.join('real_and_fake_face')"
   ]
  },
  {
   "cell_type": "markdown",
   "id": "a147607b",
   "metadata": {},
   "source": [
    "## Preparación de datos"
   ]
  },
  {
   "cell_type": "code",
   "execution_count": null,
   "id": "159d79af",
   "metadata": {},
   "outputs": [],
   "source": [
    "INITIAL_SIZE_OF_IMAGES = (256, 256)\n",
    "\n",
    "data_transforms = transforms.Compose([\n",
    "    transforms.RandomResizedCrop(INITIAL_SIZE_OF_IMAGES, scale=(0.8, 1.0)),\n",
    "    transforms.RandomHorizontalFlip(),\n",
    "    transforms.RandomRotation(degrees=15),\n",
    "    transforms.ColorJitter(brightness=0.2, contrast=0.2, saturation=0.2, hue=0.2),\n",
    "    transforms.ToTensor(),\n",
    "    transforms.Normalize(mean=[0.5, 0.5, 0.5], std=[0.5, 0.5, 0.5])\n",
    "])\n",
    "\n",
    "dataset = datasets.ImageFolder(root=DATASET, transform=data_transforms)\n",
    "\n",
    "class_names = dataset.classes\n",
    "\n",
    "for i, class_name in enumerate(class_names):\n",
    "    print(f\"Class {i}: {class_name}\")"
   ]
  },
  {
   "cell_type": "code",
   "execution_count": null,
   "id": "129a5cd1",
   "metadata": {},
   "outputs": [],
   "source": [
    "train_size = int(0.8 * len(dataset))\n",
    "test_size = int((len(dataset) - train_size) * 0.5)\n",
    "valid_size = len(dataset) - train_size - test_size\n",
    "\n",
    "train, valid, test = torch.utils.data.random_split(dataset, [train_size, valid_size, test_size])\n",
    "\n",
    "train_loader = torch.utils.data.DataLoader(dataset=train, batch_size=32, shuffle=True)\n",
    "valid_loader = torch.utils.data.DataLoader(dataset=valid, batch_size=32, shuffle=False)\n",
    "test_loader = torch.utils.data.DataLoader(dataset=test, batch_size=32, shuffle=False)"
   ]
  },
  {
   "cell_type": "code",
   "execution_count": null,
   "id": "2f2bcec1",
   "metadata": {},
   "outputs": [],
   "source": [
    "device = torch.device('cuda' if torch.cuda.is_available() else 'cpu')\n",
    "print(f'Usando {device} para entrenar')"
   ]
  },
  {
   "cell_type": "markdown",
   "id": "6860ce1d",
   "metadata": {},
   "source": [
    "## Preparación del modelo"
   ]
  },
  {
   "cell_type": "code",
   "execution_count": null,
   "id": "b0e2982a",
   "metadata": {},
   "outputs": [],
   "source": [
    "resnet18 = models.resnet18(pretrained=True)\n",
    "\n",
    "for param in resnet18.parameters():\n",
    "    param.requires_grad = False\n",
    "\n",
    "resnet18.fc = nn.Sequential(\n",
    "    nn.Linear(resnet18.fc.in_features, 512),\n",
    "    nn.ReLU(inplace=True),\n",
    "    nn.Dropout(0.5),\n",
    "    nn.Linear(512, 256),\n",
    "    nn.ReLU(inplace=True),\n",
    "    nn.Dropout(0.3),\n",
    "    nn.Linear(256, 2),\n",
    ")\n",
    "\n",
    "model = resnet18.to(device)\n",
    "\n",
    "criterion = nn.CrossEntropyLoss().to(device)\n",
    "optimizer = optim.AdamW(model.parameters(), lr=0.001)"
   ]
  },
  {
   "cell_type": "markdown",
   "id": "9f061386",
   "metadata": {},
   "source": [
    "## Entrenamiento"
   ]
  },
  {
   "cell_type": "code",
   "execution_count": null,
   "id": "e9a45ddb",
   "metadata": {},
   "outputs": [],
   "source": [
    "def train_model(model, train_loader, valid_loader, criterion, optimizer, epochs, device=\"cuda\"):\n",
    "    model.train()\n",
    "    \n",
    "    train_losses = []\n",
    "    valid_losses = []\n",
    "    train_accuracies = []\n",
    "    valid_accuracies = []\n",
    "\n",
    "    for epoch in range(epochs):\n",
    "        running_loss = 0.0\n",
    "        correct_train = 0\n",
    "        total_train = 0\n",
    "\n",
    "        for inputs, labels in train_loader:\n",
    "            inputs, labels = inputs.to(device), labels.to(device)\n",
    "\n",
    "            optimizer.zero_grad()\n",
    "\n",
    "            outputs = model(inputs)\n",
    "            loss = criterion(outputs, labels)\n",
    "            loss.backward()\n",
    "            optimizer.step()\n",
    "\n",
    "            running_loss += loss.item()\n",
    "\n",
    "            _, predicted_train = torch.max(outputs.data, 1)\n",
    "            total_train += labels.size(0)\n",
    "            correct_train += (predicted_train == labels).sum().item()\n",
    "\n",
    "        train_loss = running_loss / len(train_loader)\n",
    "        train_accuracy = correct_train / total_train\n",
    "        train_losses.append(train_loss)\n",
    "        train_accuracies.append(train_accuracy)\n",
    "\n",
    "        model.eval()\n",
    "        valid_loss = 0.0\n",
    "        correct_valid = 0\n",
    "        total_valid = 0\n",
    "\n",
    "        with torch.no_grad():\n",
    "            for inputs, labels in valid_loader:\n",
    "                inputs, labels = inputs.to(device), labels.to(device)\n",
    "\n",
    "                outputs = model(inputs)\n",
    "                loss = criterion(outputs, labels)\n",
    "                valid_loss += loss.item()\n",
    "\n",
    "                _, predicted_valid = torch.max(outputs.data, 1)\n",
    "                total_valid += labels.size(0)\n",
    "                correct_valid += (predicted_valid == labels).sum().item()\n",
    "\n",
    "        valid_loss /= len(valid_loader)\n",
    "        valid_accuracy = correct_valid / total_valid\n",
    "        valid_losses.append(valid_loss)\n",
    "        valid_accuracies.append(valid_accuracy)\n",
    "\n",
    "        print(f'Epoch {epoch + 1}/{epochs}, '\n",
    "              f'Training Loss: {train_loss:.4f}, Training Accuracy: {train_accuracy * 100:.2f}%, '\n",
    "              f'Validation Loss: {valid_loss:.4f}, Validation Accuracy: {valid_accuracy * 100:.2f}%')\n",
    "\n",
    "    print('Training complete.')\n",
    "    return train_losses, valid_losses, train_accuracies, valid_accuracies\n",
    "\n",
    "\n",
    "train_losses, valid_losses, train_accuracies, valid_accuracies = train_model(model, train_loader, valid_loader, criterion, optimizer, 10, device=device)\n"
   ]
  },
  {
   "cell_type": "markdown",
   "id": "326a61f2",
   "metadata": {},
   "source": [
    "## Resultados"
   ]
  },
  {
   "cell_type": "code",
   "execution_count": null,
   "id": "b29562d5",
   "metadata": {},
   "outputs": [],
   "source": [
    "plt.figure(figsize=(12, 4))\n",
    "plt.subplot(1, 2, 1)\n",
    "plt.plot(train_losses, label='Train Loss')\n",
    "plt.plot(valid_losses, label='Valid Loss')\n",
    "plt.legend()\n",
    "plt.xlabel('Epochs')\n",
    "plt.title('Loss vs. Epochs')\n",
    "\n",
    "plt.subplot(1, 2, 2)\n",
    "plt.plot(train_accuracies, label='Train Accuracy')\n",
    "plt.plot(valid_accuracies, label='Valid Accuracy')\n",
    "plt.legend()\n",
    "plt.xlabel('Epochs')\n",
    "plt.title('Accuracy vs. Epochs')\n",
    "\n",
    "plt.show()"
   ]
  }
 ],
 "metadata": {
  "kernelspec": {
   "display_name": "Python 3 (ipykernel)",
   "language": "python",
   "name": "python3"
  },
  "language_info": {
   "codemirror_mode": {
    "name": "ipython",
    "version": 3
   },
   "file_extension": ".py",
   "mimetype": "text/x-python",
   "name": "python",
   "nbconvert_exporter": "python",
   "pygments_lexer": "ipython3",
   "version": "3.9.7"
  }
 },
 "nbformat": 4,
 "nbformat_minor": 5
}
