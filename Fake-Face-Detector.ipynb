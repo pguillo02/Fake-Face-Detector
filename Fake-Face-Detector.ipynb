{
 "cells": [
  {
   "cell_type": "code",
   "execution_count": null,
   "id": "825bcb8e",
   "metadata": {},
   "outputs": [],
   "source": [
    "import torch\n",
    "import torch.nn as nn\n",
    "import torch.optim as optim\n",
    "from torch.utils.data import DataLoader, Dataset\n",
    "from torchvision import transforms, datasets\n",
    "import torchvision.utils as vutils\n",
    "\n",
    "import matplotlib.pyplot as plt\n",
    "import numpy as np\n",
    "import os"
   ]
  },
  {
   "cell_type": "code",
   "execution_count": null,
   "id": "5a8dbcbb",
   "metadata": {},
   "outputs": [],
   "source": [
    "from google.colab import files\n",
    "\n",
    "uploaded = files.upload()\n",
    "\n",
    "nombre_del_archivo = \"real_and_fake_face.zip\"\n",
    "\n",
    "with zipfile.ZipFile(io.BytesIO(uploaded[nombre_del_archivo]), 'r') as zip_ref:\n",
    "    zip_ref.extractall()\n",
    "\n",
    "carpeta_de_imagenes = \"real_and_fake_face\"\n",
    "lista_de_archivos = os.listdir(carpeta_de_imagenes)\n",
    "\n",
    "print(\"Archivos en la carpeta de imágenes:\")\n",
    "print(lista_de_archivos)"
   ]
  },
  {
   "cell_type": "code",
   "execution_count": null,
   "id": "f3e5504b",
   "metadata": {},
   "outputs": [],
   "source": [
    "DATASET = os.path.join('real_and_fake_face')\n",
    "INITIAL_SIZE_OF_IMAGES = (128, 128)"
   ]
  },
  {
   "cell_type": "code",
   "execution_count": null,
   "id": "a7db08b1",
   "metadata": {},
   "outputs": [],
   "source": [
    "data_transforms = transforms.Compose([\n",
    "    transforms.Resize(INITIAL_SIZE_OF_IMAGES),\n",
    "    transforms.ToTensor(),\n",
    "    transforms.Normalize(mean=[0.5, 0.5, 0.5], std=[0.5, 0.5, 0.5])\n",
    "])\n",
    "\n",
    "dataset = datasets.ImageFolder(root=DATASET, transform=data_transforms)\n",
    "\n",
    "nombres_clases = dataset.classes\n",
    "\n",
    "for i, clase in enumerate(nombres_clases):\n",
    "    print(f\"Clase {i}: {clase}\")"
   ]
  },
  {
   "cell_type": "code",
   "execution_count": null,
   "id": "762ad242",
   "metadata": {},
   "outputs": [],
   "source": [
    "train_size = int(0.8 * len(train_dataset))\n",
    "test_size = int((len(train_dataset) - train_size) * 0.5)\n",
    "valid_size = len(train_dataset) - train_size - test_size\n",
    "\n",
    "train, valid, test = torch.utils.data.random_split(train_dataset, [train_size, valid_size, test_size])\n",
    "\n",
    "train_loader = torch.utils.data.DataLoader(dataset=train, batch_size=32, shuffle=True)\n",
    "valid_loader = torch.utils.data.DataLoader(dataset=valid, batch_size=32, shuffle=False)\n",
    "test_loader = torch.utils.data.DataLoader(dataset=test, batch_size=32, shuffle=False)"
   ]
  },
  {
   "cell_type": "code",
   "execution_count": null,
   "id": "05cc5da8",
   "metadata": {},
   "outputs": [],
   "source": [
    "device = torch.device('cuda' if torch.cuda.is_available() else 'cpu')\n",
    "print(f'Usando {device} para entrenar')"
   ]
  }
 ],
 "metadata": {
  "kernelspec": {
   "display_name": "Python 3 (ipykernel)",
   "language": "python",
   "name": "python3"
  },
  "language_info": {
   "codemirror_mode": {
    "name": "ipython",
    "version": 3
   },
   "file_extension": ".py",
   "mimetype": "text/x-python",
   "name": "python",
   "nbconvert_exporter": "python",
   "pygments_lexer": "ipython3",
   "version": "3.9.7"
  }
 },
 "nbformat": 4,
 "nbformat_minor": 5
}
