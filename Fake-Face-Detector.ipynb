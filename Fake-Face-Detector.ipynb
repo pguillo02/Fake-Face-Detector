{
 "cells": [
  {
   "cell_type": "code",
   "execution_count": null,
   "id": "76d13b45",
   "metadata": {},
   "outputs": [],
   "source": [
    "import torch\n",
    "import torch.nn as nn\n",
    "import torch.optim as optim\n",
    "from torch.utils.data import DataLoader, Dataset\n",
    "from torchvision import transforms, datasets\n",
    "import torchvision.utils as vutils\n",
    "\n",
    "import matplotlib.pyplot as plt\n",
    "import numpy as np\n",
    "import os"
   ]
  },
  {
   "cell_type": "code",
   "execution_count": null,
   "id": "a711d66e",
   "metadata": {},
   "outputs": [],
   "source": [
    "from google.colab import files\n",
    "\n",
    "uploaded = files.upload()\n",
    "\n",
    "nombre_del_archivo = \"real_and_fake_face.zip\"\n",
    "\n",
    "with zipfile.ZipFile(io.BytesIO(uploaded[nombre_del_archivo]), 'r') as zip_ref:\n",
    "    zip_ref.extractall()\n",
    "\n",
    "carpeta_de_imagenes = \"real_and_fake_face\"\n",
    "lista_de_archivos = os.listdir(carpeta_de_imagenes)\n",
    "\n",
    "print(\"Archivos en la carpeta de imágenes:\")\n",
    "print(lista_de_archivos)"
   ]
  }
 ],
 "metadata": {
  "kernelspec": {
   "display_name": "Python 3 (ipykernel)",
   "language": "python",
   "name": "python3"
  },
  "language_info": {
   "codemirror_mode": {
    "name": "ipython",
    "version": 3
   },
   "file_extension": ".py",
   "mimetype": "text/x-python",
   "name": "python",
   "nbconvert_exporter": "python",
   "pygments_lexer": "ipython3",
   "version": "3.9.7"
  }
 },
 "nbformat": 4,
 "nbformat_minor": 5
}
